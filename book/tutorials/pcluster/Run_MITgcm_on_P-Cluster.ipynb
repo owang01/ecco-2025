{
 "cells": [
  {
   "cell_type": "markdown",
   "metadata": {},
   "source": [
    "# Conducting MITgcm Verification Experiments\n",
    "## MITgcm\n",
    "MITgcm (Massachusetts Institute of Technology General Circulation Model) is a powerful and versatile numerical modeling tool used to \n",
    "simulate the circulation of the oceans, atmosphere, and climate systems. It serves as the primary numerical model for the Estimating the \n",
    "Circulation and Climate of the Ocean (ECCO) project. The MITgcm user manual and code are publicly accessible at \n",
    "[MITgcm User Manual](https://mitgcm.readthedocs.io/en/latest/) and [MITgcm GitHub Repository](https://github.com/MITgcm/MITgcm), respectively.\n",
    "\n",
    "MITgcm includes a set of verification experiments designed to help new users become familiar with the model while also providing sufficient \n",
    "features for experienced users and developers to test new functionalities, facilitate debugging, and more.  \n",
    "\n",
    "[Section 5.5 of the MITgcm user manual](https://mitgcm.readthedocs.io/en/latest/contributing/contributing.html) provides detailed information \n",
    "about the verification experiments, including the `testreport` shell script utility, which generates executables, conducts runs, and \n",
    "compares the results with the benchmark results provided in the MITgcm repository. This documentation explains how to conduct these \n",
    "verification experiments on the P-Cluster.\n",
    "\n",
    "\n",
    "## Get the MITgcm Code from GitHub\n",
    "\n",
    "Log in to the P-Cluster using the following command:\n",
    "`ssh -i /path/to/privatekey -X USERNAME@34.210.1.198`\n",
    "\n",
    "Once logged in, clone the MITgcm code from GitHub and navigate to the directory where the verification experiments reside:\n",
    "\n",
    "```\n",
    "cd /efs_ecco/USERNAME/\n",
    "git clone https://github.com/MITgcm/MITgcm.git\n",
    "```\n",
    "\n",
    "## Conducting Verification Experiments Using testreport Utility\n",
    "As an example, we use the shell script `testreport` to conduct the verification experiment `global_ocean.90x40x15`. Note that the names \n",
    "of the verification experiments are the same as the directory names. Additionally, each verification experiment may have multiple \n",
    "sub-experiments \n",
    "that test different MITgcm features.  \n"
   ]
  },
  {
   "cell_type": "markdown",
   "metadata": {},
   "source": [
    "### Request an Interactive Node\n",
    "As explained in the [P-Cluster introduction section](../../preliminary/pcluster-login.ipynb), we first need to request an interactive node in order not to strain the head node, which has very limited resources. To do this, issue the following command: \n",
    "\n",
    "```salloc --ntasks=4 --ntasks-per-node=2 --partition=sealevel-c5xl-demand --time=01:00:00```\n",
    "\n",
    "Wait for the node to become available (when the prompt appears), then proceed to the next step below."
   ]
  },
  {
   "cell_type": "markdown",
   "metadata": {},
   "source": [
    "<div class=\"alert alert-block alert-info\"><b>--ntasks-per-node=2, why?</b> Notice that we're asking for 4 tasks (--ntasks=4), that means we need 4 cpus from somewhere. Each node in the partition \"sealevel-c5xl-demand\" has two cpus. When we say --ntasks-per-node=2, we're asking for both of the cpus in each node. So doing the math, you see we're requesting 2 nodes, each with 2 cpus, for our 4 tasks. Simple.</div>"
   ]
  },
  {
   "cell_type": "markdown",
   "metadata": {},
   "source": [
    "### Conducting Verification Experiments on the P-Cluster\n",
    "\n",
    "So now that we've got 4 cpus, let's use them to run some super small MITgcm simulations. These small simulations are part of a test suite that the MITgcm maintainers use to make sure code changes don't break things. Verification experiments are generally pretty small and run only a few time steps, so they run fast.\n",
    "\n",
    "Let's run a verification experiment in two ways: (1) usingn only one CPU, and (2) using four CPUs.\n",
    "\n",
    "#### Conduct a Verification Experiment with one CPU\n",
    "\n",
    "```bash\n",
    "cd MITgcm/verification\n",
    "./testreport -t \"global_ocean.90x40x15\"\n",
    "```\n",
    "By default, the ```testreport``` command will compile the model for one cpu. Easy.\n",
    "\n",
    "After the experiment completes, `testreport` generates a summary of the status of the experiment, indicating whether the test\n",
    "passes or fails. A test passes if the results are sufficiently similar to the benchmark results, and it fails if the deviation exceeds \n",
    "an acceptable threshold.. Below is a snippet of the summary, which \n",
    "shows that there are three sub-experiments: `global_ocean.90x40x15`, `global_ocean.90x40x15.dwnslp`, and `global_ocean.90x40x15.idemix`. All \n",
    "three sub-experiments have passed the test (indicated by the word `pass`).\n",
    "\n",
    "```\n",
    "Thu Sep 26 16:34:17 UTC 2024\n",
    "run: ./testreport -t global_ocean.90x40x15\n",
    "on : Linux ip-10-20-22-69 5.15.0-1070-aws #76~20.04.1-Ubuntu SMP Mon Sep 2 12:20:36 UTC 2024 x86_64 x86_64 x86_64 GNU/Linux\n",
    "\n",
    "No \"OPTFILE\" was specified ; genmake2 found and uses:\n",
    "                         OPTFILE=../../../tools/build_options/linux_amd64_gfortran\n",
    "\n",
    "default 10  ----T-----  ----S-----  ----U-----  ----V-----  --PTR 01--  --PTR 02--  --PTR 03--  --PTR 04--  --PTR 05--\n",
    "G D M    c        m  s        m  s        m  s        m  s        m  s        m  s        m  s        m  s        m  s\n",
    "e p a R  g  m  m  e  .  m  m  e  .  m  m  e  .  m  m  e  .  m  m  e  .  m  m  e  .  m  m  e  .  m  m  e  .  m  m  e  .\n",
    "n n k u  2  i  a  a  d  i  a  a  d  i  a  a  d  i  a  a  d  i  a  a  d  i  a  a  d  i  a  a  d  i  a  a  d  i  a  a  d\n",
    "2 d e n  d  n  x  n  .  n  x  n  .  n  x  n  .  n  x  n  .  n  x  n  .  n  x  n  .  n  x  n  .  n  x  n  .  n  x  n  .\n",
    "\n",
    "Y Y Y Y>16<16 16 16 16 16 16 16 16 16 16 16 16 16 16 16 16 16 16 16 16  .  .  .  . pass  global_ocean.90x40x15\n",
    "Y Y Y Y>16<16 16 16 16 16 16 16 16 16 16 16 16 16 16 16 16 16 16 16 16  .  .  .  . pass  global_ocean.90x40x15.dwnslp\n",
    "Y Y Y Y>12<13 16 16 16 16 16 16 16 14 13 13 16 16 14 13 16 -- -- -- --  .  .  .  . pass  global_ocean.90x40x15.idemix\n",
    "Start time:  Thu Sep 26 16:34:17 UTC 2024\n",
    "End time:    Thu Sep 26 16:37:34 UTC 2024\n",
    "======== End of testreport execution ========\n",
    "```\n"
   ]
  },
  {
   "cell_type": "markdown",
   "metadata": {},
   "source": [
    "#### Conduct a Verification Experiment with 2 CPUs\n",
    "\n",
    "OK, so to run this verfication experiment on 2 CPUs on the P-Cluster, we need to use MPI. It seems like every machine has its MPI libraries in a different place, and so in order to compile the model we need to tell the compiler where the MPI libraries are. For the P-Cluster, the location of the MPI libraries (and all of the other libraries we need) are stored in a fancy text file called an OPTFILE, and this OPTFILE is on github. So, first, let's download it.\n",
    "```bash\n",
    "cd MITgcm/verification\n",
    "\n",
    "wget https://raw.githubusercontent.com/ECCO-GROUP/ECCO-v4-Configurations/refs/heads/master/ECCOv4%20Release%205/code/linux_ifort_impi_aws_sysmodule\n",
    "```\n",
    "\n",
    "This is what I see:\n",
    "```bash\n",
    "ls -l linux_ifort_impi_aws_sysmodule \n",
    "-rw-r--r--  1 ifenty  staff  1981 May 17 16:46 linux_ifort_impi_aws_sysmodule\n",
    "```\n",
    "\n",
    "OK, so now we're going to run the test report again, but with one extra flag: \"-mpi\"\n",
    "```bash\n",
    "./testreport -t \"global_ocean.90x40x15\" -optfile linux_ifort_impi_aws_sysmodule -mpi\n",
    "```\n",
    "\n",
    "The ```-optfile``` tells the compiler where to find the magical OPTFILE. Easy.  The \"-mpi\" line tells testreport to use 2 CPUs (default is 2).\n",
    "\n",
    "Just like with the one cpu example, `testreport` generates a summary of the status of the experiment, indicating whether the test passes or fails. Below is a snippet of the summary for the 2 CPUs job.\n",
    "\n",
    "Notice the \"-MPI 4\" and the \"-optfile linux...\" lines below.  If you see a lot of \"Y\" and \"pass\", it worked. Go celebrate with a walk on the dunes.\n",
    "\n",
    "```\n",
    "Sat May 17 22:15:32 UTC 2025\n",
    "run: ./testreport -t global_ocean.90x40x15 -optfile linux_ifort_impi_aws_sysmodule -mpi\n",
    "on : Linux sealevel-c5xl-demand-dy-c5xlarge-1 5.15.0-1055-aws #60~20.04.1-Ubuntu SMP Thu Feb 22 15:49:52 UTC 2024 x86_64 x86_64 x86_64 GNU/Linux\n",
    "\n",
    "  OPTFILE=/efs_ecco/ohoundeg/MITgcm/verification/linux_ifort_impi_aws_sysmodule\n",
    "\n",
    "default 10  ----T-----  ----S-----  ----U-----  ----V-----  --PTR 01--  --PTR 02--  --PTR 03--  --PTR 04--  --PTR 05--\n",
    "G D M    c        m  s        m  s        m  s        m  s        m  s        m  s        m  s        m  s        m  s\n",
    "e p a R  g  m  m  e  .  m  m  e  .  m  m  e  .  m  m  e  .  m  m  e  .  m  m  e  .  m  m  e  .  m  m  e  .  m  m  e  .\n",
    "n n k u  2  i  a  a  d  i  a  a  d  i  a  a  d  i  a  a  d  i  a  a  d  i  a  a  d  i  a  a  d  i  a  a  d  i  a  a  d\n",
    "2 d e n  d  n  x  n  .  n  x  n  .  n  x  n  .  n  x  n  .  n  x  n  .  n  x  n  .  n  x  n  .  n  x  n  .  n  x  n  .\n",
    "\n",
    "Y Y Y Y>16<16 16 16 16 16 16 16 16 16 16 16 16 16 16 16 16 16 16 16 16  .  .  .  . pass  global_ocean.90x40x15\n",
    "Y Y Y Y>16<16 16 16 16 16 16 16 16 16 16 16 16 16 16 16 16 16 16 16 16  .  .  .  . pass  global_ocean.90x40x15.dwnslp\n",
    "Y Y Y Y>12<13 16 16 16 16 16 16 16 14 13 12 14 13 16 13 13 -- -- -- --  .  .  .  . pass  global_ocean.90x40x15.idemix\n",
    "Start time:  Sat May 17 22:15:32 UTC 2025\n",
    "End time:    Sat May 17 22:22:16 UTC 2025\n",
    "======== End of testreport execution ========\n",
    "```\n"
   ]
  },
  {
   "cell_type": "markdown",
   "metadata": {},
   "source": [
    "### Other Verification Experiments\n",
    "The `testreport` utility also allows one conduct multiple verification experiments (with each having multiple sub-experiments). For example, \n",
    "```bash\n",
    "./testreport -t \"global_ocean.90x40x15, lab_sea\"\n",
    "```\n"
   ]
  }
 ],
 "metadata": {
  "kernelspec": {
   "display_name": "Python 3 (ipykernel)",
   "language": "python",
   "name": "python3"
  },
  "language_info": {
   "codemirror_mode": {
    "name": "ipython",
    "version": 3
   },
   "file_extension": ".py",
   "mimetype": "text/x-python",
   "name": "python",
   "nbconvert_exporter": "python",
   "pygments_lexer": "ipython3",
   "version": "3.11.10"
  },
  "vscode": {
   "interpreter": {
    "hash": "31f2aee4e71d21fbe5cf8b01ff0e069b9275f58929596ceb00d14d90e3e16cd6"
   }
  }
 },
 "nbformat": 4,
 "nbformat_minor": 4
}
