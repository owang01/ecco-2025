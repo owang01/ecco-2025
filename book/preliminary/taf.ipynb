{
 "cells": [
  {
   "cell_type": "markdown",
   "id": "47f4c5e1-4663-4519-a5ad-ca97c7908320",
   "metadata": {},
   "source": [
    "# Configure TAF on the P-Cluster\n",
    "Transformation of Algorithms in Fortran (TAF) is a commercial software package developed by [FastOpt](http://fastopt.com/) that performs source-to-source translation of Fortran code. ECCO uses TAF to generate adjoint code, which is essential for producing ocean and sea-ice state estimates, conducting adjoint-based reconstructions and decompositions, and supporting many other applications. Thanks to the generous support of FastOpt, attendees of the ECCO Summer School are granted access to TAF for generating adjoint code on the P-Cluster during the summer school. This tutorial describes the steps to set up the environment for using TAF on the P-Cluster.\n",
    "\n",
    "```{note}\n",
    "All files mentioned in this tutorial are available on the P-Cluster at `/efs_ecco/ECCO/TAF/`. \n",
    "``` "
   ]
  },
  {
   "cell_type": "markdown",
   "id": "2b34d3e9-eca0-4520-b02a-5a7c2eed0e25",
   "metadata": {},
   "source": [
    "## TAF Helper Script: staf\n",
    "Users send Fortran code to the TAF server. After processiing (i.e., translation), the TAF server reutrns the translated Fortran code, such as adjoint code. A script developed by FastOpt, called `staf`, faciliates the use of TAF, including setting up the environment, handling communication between the user's machine (the P-Cluster in our case) and the TAF server, and enabling a wide range of TAF-related operations through command-line options.\n",
    "\n",
    "Users should go to their home directory, create a directory called `bin`, and then copy `staf` to it, as described by the following commands: \n",
    "```\n",
    "cd ~\n",
    "mkdir bin\n",
    "cd bin\n",
    "cp -p /efs_ecco/ECCO/TAF/staf .\n",
    "```\n",
    "\n",
    "In your `~/.bashrc`, add the path to the `bin` directory to your search path:\n",
    "\n",
    "```\n",
    "export PATH=~/bin/:$PATH\n",
    "```\n",
    "If you are using a different shell, add the path to your shell's configuration file in a similar way. \n",
    "\n",
    "Issue the following command **outside** the `bin` directory to check whether the path has been added correctly:\n",
    "\n",
    "```\n",
    "staf -help\n",
    "```\n",
    "\n",
    "If the output is a list of TAF options, it means `staf` has been successfully configured.\n"
   ]
  },
  {
   "cell_type": "markdown",
   "id": "0eb8edaa",
   "metadata": {},
   "source": [
    "\n",
    "## SSH Key Pair\n",
    "Using the TAF server requires authorization from FastOpt. Secure Shell (SSH) keys—a pair of cryptographic keys used for secure authentication in the SSH protocol—are used to interact with the TAF server. For the ECCO Summer School, a common pair of SSH keys is provided for all TAF users; this key pair has been authorized by FastOpt for use with TAF. Please place the SSH keys in the `.ssh` subdirectory of your home directory, and restrict the read permissions to yourself.\n",
    "\n",
    "```\n",
    "cd\n",
    "mkdir .ssh/\n",
    "cd ~/.ssh/\n",
    "cp -p /efs_ecco/ECCO/TAF/taf .\n",
    "cp -p /efs_ecco/ECCO/TAF/taf.pub .\n",
    "chmod 400 taf\n",
    "```"
   ]
  },
  {
   "cell_type": "markdown",
   "id": "6a506b40",
   "metadata": {},
   "source": [
    "\n",
    "## Test Connecting TAF Server\n",
    "\n",
    "Once the SSH keys are set up, test whether `staf` can connect to the TAF server by running the following command:\n",
    "\n",
    "```\n",
    "staf -test\n",
    "```\n",
    "\n",
    "A successful connection will produce output similar to the following:\n",
    "\n",
    "```\n",
    " Transformation of Algorithms in Fortran (TAF)\n",
    " Copyright 2000-2019 FastOpt GmbH, Hamburg, Germany\n",
    " All rights reserved.\n",
    " URL: http://www.FastOpt.de, Email: info@FastOpt.de\n",
    " script to access TAF remotely version 5.2\n",
    "\n",
    "ssh  -x -l taf -i/home/owang/.ssh/taf  fastopt.de test\n",
    "Your access to the TAF server is enabled.\n",
    "```\n"
   ]
  },
  {
   "cell_type": "markdown",
   "id": "559675b5",
   "metadata": {},
   "source": [
    "\n",
    "## TAF Manual\n",
    "\n",
    "An up-to-date copy of the TAF manual is available on the P-Cluster at `/efs_ecco/ECCO/TAF/taf-manual-4.0.pdf`. Alternatively, you can download a copy of the TAF manual directly from the TAF server using the following command:\n",
    "\n",
    "```\n",
    "staf -get manual\n",
    "```\n",
    "\n",
    "The manual provides useful information for using TAF, illustrated with simple examples.\n"
   ]
  }
 ],
 "metadata": {
  "jupytext": {
   "cell_metadata_filter": "-all",
   "main_language": "python",
   "notebook_metadata_filter": "-all"
  },
  "kernelspec": {
   "display_name": "Python 3 (ipykernel)",
   "language": "python",
   "name": "python3"
  },
  "language_info": {
   "codemirror_mode": {
    "name": "ipython",
    "version": 3
   },
   "file_extension": ".py",
   "mimetype": "text/x-python",
   "name": "python",
   "nbconvert_exporter": "python",
   "pygments_lexer": "ipython3",
   "version": "3.12.7"
  },
  "vscode": {
   "interpreter": {
    "hash": "31f2aee4e71d21fbe5cf8b01ff0e069b9275f58929596ceb00d14d90e3e16cd6"
   }
  }
 },
 "nbformat": 4,
 "nbformat_minor": 5
}
